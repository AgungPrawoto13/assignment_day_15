{
 "cells": [
  {
   "cell_type": "code",
   "execution_count": 1,
   "id": "25846da4-c6b2-46a5-b7d1-9809732bb1b9",
   "metadata": {
    "tags": []
   },
   "outputs": [],
   "source": [
    "import json\n",
    "import uuid\n",
    "import os\n",
    "import json\n",
    "from dotenv import load_dotenv\n",
    "from pathlib import Path\n",
    "from kafka import KafkaProducer\n",
    "from faker import Faker\n",
    "from time import sleep"
   ]
  },
  {
   "cell_type": "code",
   "execution_count": 2,
   "id": "42f97822-c06f-47e0-a0a4-87a7bf1d95a9",
   "metadata": {
    "tags": []
   },
   "outputs": [
    {
     "data": {
      "text/plain": [
       "True"
      ]
     },
     "execution_count": 2,
     "metadata": {},
     "output_type": "execute_result"
    }
   ],
   "source": [
    "dotenv_path = Path('/resources/.env')\n",
    "load_dotenv(dotenv_path=dotenv_path)"
   ]
  },
  {
   "cell_type": "code",
   "execution_count": 4,
   "id": "3f89f5a9-8c75-4a38-b48d-ad72c6a13c41",
   "metadata": {
    "tags": []
   },
   "outputs": [],
   "source": [
    "kafka_host = os.getenv('KAFKA_HOST')\n",
    "kafka_topic = os.getenv('KAFKA_TOPIC_NAME')\n",
    "kafka_topic_partition = os.getenv('KAFKA_TOPIC_NAME')+\"-2\""
   ]
  },
  {
   "cell_type": "code",
   "execution_count": 5,
   "id": "a4a59d22-69c5-4e0a-b1e2-d0d77867c45b",
   "metadata": {
    "tags": []
   },
   "outputs": [
    {
     "name": "stdout",
     "output_type": "stream",
     "text": [
      "dataeng-kafka\n"
     ]
    }
   ],
   "source": [
    "print(kafka_host)"
   ]
  },
  {
   "cell_type": "code",
   "execution_count": 6,
   "id": "8515096d-3bc6-4905-98f5-eb1e6d7bfa4c",
   "metadata": {
    "tags": []
   },
   "outputs": [],
   "source": [
    "producer = KafkaProducer(bootstrap_servers=f'{kafka_host}:9092')"
   ]
  },
  {
   "cell_type": "code",
   "execution_count": 7,
   "id": "78075b5c-08c8-4c43-99a1-0689a87414c4",
   "metadata": {
    "tags": []
   },
   "outputs": [],
   "source": [
    "_instance = Faker()\n",
    "global faker\n",
    "faker = Faker()"
   ]
  },
  {
   "cell_type": "code",
   "execution_count": 9,
   "id": "503ade79-0f77-4970-8e04-ecefce397398",
   "metadata": {
    "tags": []
   },
   "outputs": [
    {
     "name": "stdout",
     "output_type": "stream",
     "text": [
      "ac8afb74-8b65-49be-a850-b1dffcecdae2 RecordMetadata(topic='test-topic-2', partition=0, topic_partition=TopicPartition(topic='test-topic-2', partition=0), offset=3, timestamp=1702184769273, log_start_offset=0, checksum=None, serialized_key_size=-1, serialized_value_size=178, serialized_header_size=-1)\n",
      "4c653040-b78b-4697-ab4f-796f95e436f3 RecordMetadata(topic='test-topic-2', partition=0, topic_partition=TopicPartition(topic='test-topic-2', partition=0), offset=4, timestamp=1702184779312, log_start_offset=0, checksum=None, serialized_key_size=-1, serialized_value_size=187, serialized_header_size=-1)\n",
      "3489bd09-bb9e-42cc-8ea9-25d6920b48bc RecordMetadata(topic='test-topic-2', partition=0, topic_partition=TopicPartition(topic='test-topic-2', partition=0), offset=5, timestamp=1702184789335, log_start_offset=0, checksum=None, serialized_key_size=-1, serialized_value_size=183, serialized_header_size=-1)\n",
      "a1e3b9fa-be0c-4dd9-a091-ad853dc4a86e RecordMetadata(topic='test-topic-2', partition=0, topic_partition=TopicPartition(topic='test-topic-2', partition=0), offset=6, timestamp=1702184799355, log_start_offset=0, checksum=None, serialized_key_size=-1, serialized_value_size=183, serialized_header_size=-1)\n",
      "2397401b-d7fb-4aa3-87f5-424d10e5c936 RecordMetadata(topic='test-topic-2', partition=0, topic_partition=TopicPartition(topic='test-topic-2', partition=0), offset=7, timestamp=1702184809371, log_start_offset=0, checksum=None, serialized_key_size=-1, serialized_value_size=182, serialized_header_size=-1)\n",
      "933bd608-6eb4-470e-8431-9b862e1a285c RecordMetadata(topic='test-topic-2', partition=0, topic_partition=TopicPartition(topic='test-topic-2', partition=0), offset=8, timestamp=1702184819383, log_start_offset=0, checksum=None, serialized_key_size=-1, serialized_value_size=191, serialized_header_size=-1)\n",
      "0df566fc-3972-49a2-b709-6683c9189240 RecordMetadata(topic='test-topic-2', partition=0, topic_partition=TopicPartition(topic='test-topic-2', partition=0), offset=9, timestamp=1702184829396, log_start_offset=0, checksum=None, serialized_key_size=-1, serialized_value_size=184, serialized_header_size=-1)\n"
     ]
    },
    {
     "ename": "KeyboardInterrupt",
     "evalue": "",
     "output_type": "error",
     "traceback": [
      "\u001b[0;31m---------------------------------------------------------------------------\u001b[0m",
      "\u001b[0;31mKeyboardInterrupt\u001b[0m                         Traceback (most recent call last)",
      "Cell \u001b[0;32mIn[9], line 25\u001b[0m\n\u001b[1;32m     23\u001b[0m \u001b[38;5;66;03m# response = producer.send(topic=kafka_topic_partition, value=_payload, partition=2)\u001b[39;00m\n\u001b[1;32m     24\u001b[0m \u001b[38;5;28mprint\u001b[39m(json_data[\u001b[38;5;124m'\u001b[39m\u001b[38;5;124memp_id\u001b[39m\u001b[38;5;124m'\u001b[39m],response\u001b[38;5;241m.\u001b[39mget())\n\u001b[0;32m---> 25\u001b[0m \u001b[43msleep\u001b[49m\u001b[43m(\u001b[49m\u001b[38;5;241;43m10\u001b[39;49m\u001b[43m)\u001b[49m\n",
      "\u001b[0;31mKeyboardInterrupt\u001b[0m: "
     ]
    }
   ],
   "source": [
    "class DataGenerator(object):\n",
    "    @staticmethod\n",
    "    def get_data():\n",
    "        return [\n",
    "                uuid.uuid4().__str__(),\n",
    "                faker.name(),\n",
    "                faker.random_element(elements=('IT', 'HR', 'Sales', 'Marketing')),\n",
    "                faker.random_element(elements=('CA', 'NY', 'TX', 'FL', 'IL', 'RJ')),\n",
    "                faker.random_int(min=10000, max=150000),\n",
    "                faker.random_int(min=18, max=60),\n",
    "                faker.random_int(min=0, max=100000),\n",
    "                faker.unix_time()\n",
    "        ]\n",
    "\n",
    "for i in range(1,400):\n",
    "    columns =  [\"emp_id\", \"employee_name\", \"department\", \"state\", \"salary\", \"age\", \"bonus\", \"ts\", \"new\"]\n",
    "    data_list = DataGenerator.get_data()\n",
    "    json_data = dict(\n",
    "        zip(columns,data_list)\n",
    "    )\n",
    "    _payload = json.dumps(json_data).encode(\"utf-8\")\n",
    "    response = producer.send(topic=kafka_topic_partition, value=_payload)\n",
    "    # response = producer.send(topic=kafka_topic_partition, value=_payload, partition=2)\n",
    "    print(json_data['emp_id'],response.get())\n",
    "    sleep(10)"
   ]
  }
 ],
 "metadata": {
  "kernelspec": {
   "display_name": "Python 3 (ipykernel)",
   "language": "python",
   "name": "python3"
  },
  "language_info": {
   "codemirror_mode": {
    "name": "ipython",
    "version": 3
   },
   "file_extension": ".py",
   "mimetype": "text/x-python",
   "name": "python",
   "nbconvert_exporter": "python",
   "pygments_lexer": "ipython3",
   "version": "3.10.10"
  }
 },
 "nbformat": 4,
 "nbformat_minor": 5
}
